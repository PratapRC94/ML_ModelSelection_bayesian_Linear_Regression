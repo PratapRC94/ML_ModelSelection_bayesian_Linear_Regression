{
 "cells": [
  {
   "cell_type": "code",
   "execution_count": 51,
   "metadata": {},
   "outputs": [],
   "source": [
    "import numpy as np\n",
    "import csv\n",
    "import matplotlib.pyplot as plt\n",
    "%matplotlib inline"
   ]
  },
  {
   "cell_type": "code",
   "execution_count": 52,
   "metadata": {},
   "outputs": [],
   "source": [
    "##########################TASK 1####################################\n",
    "train_data = []\n",
    "with open('train-crime.csv', 'r') as csvfile:\n",
    "    # creating a csv reader object\n",
    "    csvreader = csv.reader(csvfile)\n",
    "    \n",
    "    \n",
    "    # extracting each data row one by one\n",
    "    for row in csvreader:\n",
    "        train_data.append(row)\n",
    "\n",
    "train_label = []\n",
    "with open('trainR-crime.csv', 'r') as csvfile:\n",
    "    # creating a csv reader object\n",
    "    csvreader = csv.reader(csvfile)\n",
    "    \n",
    "    \n",
    "    # extracting each data row one by one\n",
    "    for row in csvreader:\n",
    "        train_label.append(row)\n",
    "        \n",
    "number_of_features = len(train_data[1])\n",
    "number_of_examples = len(train_data)\n",
    "\n",
    "train_data_array = np.array(train_data,dtype=float)\n",
    "train_label_array = np.array(train_label,dtype=float)\n",
    "\n",
    "test_data = []\n",
    "with open('test-crime.csv', 'r') as csvfile:\n",
    "    # creating a csv reader object\n",
    "    csvreader = csv.reader(csvfile)\n",
    "    \n",
    "    \n",
    "    # extracting each data row one by one\n",
    "    for row in csvreader:\n",
    "        test_data.append(row)\n",
    "\n",
    "test_label = []\n",
    "with open('testR-crime.csv', 'r') as csvfile:\n",
    "    # creating a csv reader object\n",
    "    csvreader = csv.reader(csvfile)\n",
    "    \n",
    "    \n",
    "    # extracting each data row one by one\n",
    "    for row in csvreader:\n",
    "        test_label.append(row)\n",
    "        \n",
    "\n",
    "test_data_array = np.array(test_data,dtype=float)\n",
    "test_label_array = np.array(test_label,dtype=float)\n",
    "\n",
    "\n",
    "###########################TASK 2#################\n",
    "identity_matrix = np.identity(number_of_features)\n",
    "phi = np.array(train_data,dtype=float)\n",
    "t = np.array(train_label,dtype=float)\n",
    "\n",
    "MSE_testing_for_different_lambdaa = []\n",
    "MSE_training_for_different_lambdaa = []\n",
    "for lambdaa in range(3000):\n",
    "    w = np.dot(np.dot(np.linalg.inv((lambdaa*identity_matrix + np.dot((phi.T),phi))),phi.T),t)\n",
    "\n",
    "    estimated_training_result_list = []\n",
    "    for i in range(len(train_data_array)):\n",
    "        estimated_result = list(np.dot(w.T,train_data_array[i]))\n",
    "        estimated_training_result_list.append(estimated_result)\n",
    "    \n",
    "    training_error = []\n",
    "    for i in range(len(train_label_array)):\n",
    "        error_result = list(train_label_array[i] - estimated_training_result_list[i])\n",
    "        training_error.append(error_result)\n",
    "\n",
    "    training_error_squared = 0\n",
    "    for i in range(len(training_error)):\n",
    "        training_error_squared = training_error_squared + np.square(training_error[i])\n",
    "\n",
    "    MSE_training = list(training_error_squared/len(train_data_array))\n",
    "    MSE_training_for_different_lambdaa.append(MSE_training)\n",
    "    \n",
    "    \n",
    "    estimated_testing_result_list = []\n",
    "    for i in range(len(test_data_array)):\n",
    "        estimated_result = list(np.dot(w.T,test_data_array[i]))\n",
    "        estimated_testing_result_list.append(estimated_result)\n",
    "    \n",
    "    testing_error = []\n",
    "    for i in range(len(test_label_array)):\n",
    "        error_result = list(test_label_array[i] - estimated_testing_result_list[i])\n",
    "        testing_error.append(error_result)\n",
    "\n",
    "    testing_error_squared = 0\n",
    "    for i in range(len(testing_error)):\n",
    "        testing_error_squared = testing_error_squared + np.square(testing_error[i])\n",
    "\n",
    "    MSE_testing = list(testing_error_squared/len(test_data_array))\n",
    "    MSE_testing_for_different_lambdaa.append(MSE_testing)\n",
    "    \n"
   ]
  },
  {
   "cell_type": "code",
   "execution_count": 53,
   "metadata": {},
   "outputs": [
    {
     "data": {
      "image/png": "[encoded data removed]",
      "text/plain": [
       "<Figure size 432x288 with 1 Axes>"
      ]
     },
     "metadata": {
      "needs_background": "light"
     },
     "output_type": "display_data"
    }
   ],
   "source": [
    "x=range(3000)\n",
    "plt.plot(x,MSE_training_for_different_lambdaa,label = \"training_error\")\n",
    "plt.plot(x,MSE_testing_for_different_lambdaa,label = \"testing_error\")\n",
    "plt.xlabel('lambda')\n",
    "plt.ylabel('MSE')\n",
    "plt.legend()\n",
    "plt.show()"
   ]
  },
  {
   "cell_type": "code",
   "execution_count": 54,
   "metadata": {},
   "outputs": [
    {
     "name": "stdout",
     "output_type": "stream",
     "text": [
      "[0.3890233877134438]\n",
      "75\n"
     ]
    }
   ],
   "source": [
    "min_value=min(MSE_testing_for_different_lambdaa)\n",
    "min_index = MSE_testing_for_different_lambdaa.index(min_value)\n",
    "print(min_value)\n",
    "print(min_index)"
   ]
  },
  {
   "cell_type": "code",
   "execution_count": 55,
   "metadata": {},
   "outputs": [],
   "source": [
    "train_data = []\n",
    "with open('train-crime.csv', 'r') as csvfile:\n",
    "    # creating a csv reader object\n",
    "    csvreader = csv.reader(csvfile)\n",
    "    \n",
    "    \n",
    "    # extracting each data row one by one\n",
    "    for row in csvreader:\n",
    "        train_data.append(row)\n",
    "\n",
    "train_label = []\n",
    "with open('trainR-crime.csv', 'r') as csvfile:\n",
    "    # creating a csv reader object\n",
    "    csvreader = csv.reader(csvfile)\n",
    "    \n",
    "    \n",
    "    # extracting each data row one by one\n",
    "    for row in csvreader:\n",
    "        train_label.append(row)\n",
    "        \n",
    "number_of_features = len(train_data[1])\n",
    "number_of_examples = len(train_data)\n",
    "\n",
    "train_data_array = np.array(train_data,dtype=float)\n",
    "train_label_array = np.array(train_label,dtype=float)\n",
    "\n"
   ]
  },
  {
   "cell_type": "code",
   "execution_count": 56,
   "metadata": {},
   "outputs": [],
   "source": [
    "train_data_dic={}\n",
    "for i in range(len(train_data_array)):\n",
    "    train_data_dic[i] = train_data_array[i]\n",
    "\n",
    "train_label_dic={}\n",
    "for i in range(len(train_label_array)):\n",
    "    train_label_dic[i] = train_label_array[i]\n",
    "    \n",
    "\n",
    "    \n",
    "MSE_for_each_lambda_each_iteration = []\n",
    "for lambdaa in range(3000):\n",
    "    MSE_for_each_iteation = []\n",
    "    for  j in range(10):\n",
    "        keys = []\n",
    "        for i in range(j*int((len(train_data_array))/10),(j*int((len(train_data_array))/10))+int((len(train_data_array))/10),1):\n",
    "            keys.append(i)\n",
    "        for k in keys:\n",
    "            test_data_k_fold_dic = train_data_dic[k]\n",
    "            test_label_k_fold_dic = train_label_dic[k]\n",
    "    \n",
    "        training_data_dic_k_fold_keys = train_data_dic.keys()-keys\n",
    "        train_label_dic_k_fold_keys = train_label_dic.keys()-keys\n",
    "        \n",
    "        train_data_k_fold_dic = {}\n",
    "        for i in training_data_dic_k_fold_keys:\n",
    "            train_data_k_fold_dic[i] = train_data_dic[i]\n",
    "            \n",
    "        train_label_k_fold_dic = {}\n",
    "        for i in train_label_dic_k_fold_keys:\n",
    "            train_label_k_fold_dic[i] = train_label_dic[i]\n",
    "        #print('charan')\n",
    "        \n",
    "        test_data_k_fold_dic = {}\n",
    "        for i in keys:\n",
    "            test_data_k_fold_dic[i] = train_data_dic[i]\n",
    "            \n",
    "        test_label_k_fold_dic = {}\n",
    "        for i in keys:\n",
    "            test_label_k_fold_dic[i] = train_label_dic[i]\n",
    "        \n",
    "        \n",
    "        train_data_k_fold_array = list(train_data_k_fold_dic.values())\n",
    "        train_label_k_fold_array = list(train_label_k_fold_dic.values())\n",
    "        test_data_k_fold_array = list(test_data_k_fold_dic.values())\n",
    "        test_label_k_fold_array = list(test_label_k_fold_dic.values())\n",
    "        number_of_features = len(train_data_k_fold_array[1])\n",
    "        number_of_examples = len(train_data_k_fold_array)\n",
    "    \n",
    "        identity_matrix = np.identity(number_of_features)\n",
    "        phi = np.array(train_data_k_fold_array,dtype=float)\n",
    "        t = np.array(train_label_k_fold_array,dtype=float)\n",
    "        \n",
    "        w = np.dot(np.dot(np.linalg.inv((lambdaa*identity_matrix + np.dot((phi.T),phi))),phi.T),t)\n",
    "\n",
    "        estimated_training_k_fold_result_list = []\n",
    "        for i in range(len(test_data_k_fold_array)):\n",
    "            estimated_result = list(np.dot(w.T,test_data_k_fold_array[i]))\n",
    "            estimated_training_k_fold_result_list.append(estimated_result)\n",
    "    \n",
    "        training_k_fold_error = []\n",
    "        for i in range(len(test_label_k_fold_array)):\n",
    "            error_result = list(test_label_k_fold_array[i] - estimated_training_k_fold_result_list[i])\n",
    "            training_k_fold_error.append(error_result)\n",
    "\n",
    "        training_k_fold_error_squared = 0\n",
    "        for i in range(len(training_k_fold_error)):\n",
    "            training_k_fold_error_squared = training_k_fold_error_squared + np.square(training_k_fold_error[i])\n",
    "\n",
    "        MSE_training_k_fold = list(training_k_fold_error_squared/len(test_data_k_fold_array))\n",
    "        MSE_for_each_iteation.append(MSE_training_k_fold)\n",
    "    #print(MSE_for_each_iteation)\n",
    "    MSE_for_each_lambda_each_iteration.append(MSE_for_each_iteation)"
   ]
  },
  {
   "cell_type": "code",
   "execution_count": 57,
   "metadata": {},
   "outputs": [],
   "source": [
    "average_MSE_for_each_lambda = []\n",
    "for i in range(len(MSE_for_each_lambda_each_iteration)):\n",
    "    average_MSE_for_each_lambda.append(np.mean(MSE_for_each_lambda_each_iteration[i]))"
   ]
  },
  {
   "cell_type": "code",
   "execution_count": 58,
   "metadata": {},
   "outputs": [
    {
     "name": "stderr",
     "output_type": "stream",
     "text": [
      "No handles with labels found to put in legend.\n"
     ]
    },
    {
     "data": {
      "image/png": "[encoded data removed]",
      "text/plain": [
       "<Figure size 432x288 with 1 Axes>"
      ]
     },
     "metadata": {
      "needs_background": "light"
     },
     "output_type": "display_data"
    }
   ],
   "source": [
    "x=range(3000)\n",
    "plt.plot(x,average_MSE_for_each_lambda)\n",
    "#plt.plot(x,MSE_testing_for_different_lambdaa,label = \"testing_error\")\n",
    "plt.xlabel('lambda')\n",
    "plt.ylabel('MSE')\n",
    "plt.legend()\n",
    "plt.show()"
   ]
  },
  {
   "cell_type": "code",
   "execution_count": 59,
   "metadata": {},
   "outputs": [
    {
     "data": {
      "image/png": "[encoded data removed]",
      "text/plain": [
       "<Figure size 432x288 with 1 Axes>"
      ]
     },
     "metadata": {
      "needs_background": "light"
     },
     "output_type": "display_data"
    }
   ],
   "source": [
    "x=range(3000)\n",
    "plt.plot(x,average_MSE_for_each_lambda,label = \"10-fold-cross-validation\")\n",
    "plt.plot(x,MSE_training_for_different_lambdaa,label = \"training_error\")\n",
    "plt.plot(x,MSE_testing_for_different_lambdaa,label = \"testing_error\")\n",
    "plt.xlabel('lambda')\n",
    "plt.ylabel('MSE')\n",
    "plt.legend()\n",
    "plt.show()"
   ]
  },
  {
   "cell_type": "code",
   "execution_count": 60,
   "metadata": {},
   "outputs": [
    {
     "name": "stdout",
     "output_type": "stream",
     "text": [
      "Minimum MSE for testing data [0.3890233877134438]\n",
      "Lambda for Minimum MSE for testing data 75\n",
      "Minimum MSE for cross validation data 0.33519488030632627\n",
      "Lambda for Minimum MSE for cross validation data 236\n"
     ]
    }
   ],
   "source": [
    "min_value=min(MSE_testing_for_different_lambdaa)\n",
    "min_index = MSE_testing_for_different_lambdaa.index(min_value)\n",
    "print('Minimum MSE for testing data',min_value)\n",
    "print('Lambda for Minimum MSE for testing data',min_index)\n",
    "\n",
    "min_value=min(average_MSE_for_each_lambda)\n",
    "min_index = average_MSE_for_each_lambda.index(min_value)\n",
    "print('Minimum MSE for cross validation data',min_value)\n",
    "print('Lambda for Minimum MSE for cross validation data',min_index)"
   ]
  },
  {
   "cell_type": "code",
   "execution_count": 61,
   "metadata": {},
   "outputs": [],
   "source": [
    "##########################TASK 1####################################\n",
    "train_data = []\n",
    "with open('train-crime.csv', 'r') as csvfile:\n",
    "    # creating a csv reader object\n",
    "    csvreader = csv.reader(csvfile)\n",
    "    \n",
    "    \n",
    "    # extracting each data row one by one\n",
    "    for row in csvreader:\n",
    "        train_data.append(row)\n",
    "\n",
    "train_label = []\n",
    "with open('trainR-crime.csv', 'r') as csvfile:\n",
    "    # creating a csv reader object\n",
    "    csvreader = csv.reader(csvfile)\n",
    "    \n",
    "    \n",
    "    # extracting each data row one by one\n",
    "    for row in csvreader:\n",
    "        train_label.append(row)\n",
    "        \n",
    "number_of_features = len(train_data[1])\n",
    "number_of_examples = len(train_data)\n",
    "\n",
    "train_data_array = np.array(train_data,dtype=float)\n",
    "train_label_array = np.array(train_label,dtype=float)\n",
    "\n",
    "test_data = []\n",
    "with open('test-crime.csv', 'r') as csvfile:\n",
    "    # creating a csv reader object\n",
    "    csvreader = csv.reader(csvfile)\n",
    "    \n",
    "    \n",
    "    # extracting each data row one by one\n",
    "    for row in csvreader:\n",
    "        test_data.append(row)\n",
    "\n",
    "test_label = []\n",
    "with open('testR-crime.csv', 'r') as csvfile:\n",
    "    # creating a csv reader object\n",
    "    csvreader = csv.reader(csvfile)\n",
    "    \n",
    "    \n",
    "    # extracting each data row one by one\n",
    "    for row in csvreader:\n",
    "        test_label.append(row)\n",
    "        \n",
    "\n",
    "test_data_array = np.array(test_data,dtype=float)\n",
    "test_label_array = np.array(test_label,dtype=float)\n",
    "\n",
    "\n",
    "###########################TASK 2#################\n",
    "identity_matrix = np.identity(number_of_features)\n",
    "phi = np.array(train_data,dtype=float)\n",
    "t = np.array(train_label,dtype=float)\n",
    "\n",
    "MSE_testing_for_different_lambdaa = []\n",
    "#for lambdaa in range(1500):\n",
    "w = np.dot(np.dot(np.linalg.inv((236*identity_matrix + np.dot((phi.T),phi))),phi.T),t)\n",
    "    \n",
    "    \n",
    "estimated_testing_result_list = []\n",
    "for i in range(len(test_data_array)):\n",
    "    estimated_result = list(np.dot(w.T,test_data_array[i]))\n",
    "    estimated_testing_result_list.append(estimated_result)\n",
    "    \n",
    "testing_error = []\n",
    "for i in range(len(test_label_array)):\n",
    "    error_result = list(test_label_array[i] - estimated_testing_result_list[i])\n",
    "    testing_error.append(error_result)\n",
    "\n",
    "testing_error_squared = 0\n",
    "for i in range(len(testing_error)):\n",
    "    testing_error_squared = testing_error_squared + np.square(testing_error[i])\n",
    "\n",
    "MSE_testing = list(testing_error_squared/len(test_data_array))\n",
    "MSE_testing_for_different_lambdaa.append(MSE_testing)"
   ]
  },
  {
   "cell_type": "code",
   "execution_count": 62,
   "metadata": {},
   "outputs": [
    {
     "name": "stdout",
     "output_type": "stream",
     "text": [
      "[[0.3990509245283789]]\n"
     ]
    }
   ],
   "source": [
    "print(MSE_testing_for_different_lambdaa)"
   ]
  },
  {
   "cell_type": "code",
   "execution_count": null,
   "metadata": {},
   "outputs": [],
   "source": []
  }
 ],
 "metadata": {
  "kernelspec": {
   "display_name": "Python 3",
   "language": "python",
   "name": "python3"
  },
  "language_info": {
   "codemirror_mode": {
    "name": "ipython",
    "version": 3
   },
   "file_extension": ".py",
   "mimetype": "text/x-python",
   "name": "python",
   "nbconvert_exporter": "python",
   "pygments_lexer": "ipython3",
   "version": "3.8.8"
  }
 },
 "nbformat": 4,
 "nbformat_minor": 2
}
