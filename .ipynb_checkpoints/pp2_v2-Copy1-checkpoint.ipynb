{
 "cells": [
  {
   "cell_type": "code",
   "execution_count": 123,
   "id": "f9a82f3e",
   "metadata": {},
   "outputs": [
    {
     "data": {
      "text/plain": [
       "'/Users/prataprc94/Desktop/Fall2021 Courses/CSCI-B 555 Machine Learning - 17011/Programming Project/pp2'"
      ]
     },
     "execution_count": 123,
     "metadata": {},
     "output_type": "execute_result"
    }
   ],
   "source": [
    "pwd"
   ]
  },
  {
   "cell_type": "code",
   "execution_count": 174,
   "id": "6aaf7af8",
   "metadata": {},
   "outputs": [],
   "source": [
    "# Import the libraries\n",
    "import re\n",
    "import os\n",
    "import sys\n",
    "import math\n",
    "import random\n",
    "import csv\n",
    "import time\n",
    "import numpy as np\n",
    "from collections import Counter\n",
    "import matplotlib.pyplot as plt\n",
    "%matplotlib inline\n",
    "from matplotlib.pyplot import figure"
   ]
  },
  {
   "cell_type": "markdown",
   "id": "a0d1f776",
   "metadata": {},
   "source": [
    "## Task 1: Regularization"
   ]
  },
  {
   "cell_type": "code",
   "execution_count": 191,
   "id": "24e896d5",
   "metadata": {},
   "outputs": [],
   "source": [
    "def read_files(file_name):\n",
    "    data = []\n",
    "    with open('pp2data/' + file_name, 'r') as f:\n",
    "        # creating a csv reader object\n",
    "        f_csv = csv.reader(f)\n",
    "        # extracting each data row one by one\n",
    "        for row in f_csv:\n",
    "            data.append(row)\n",
    "    return data"
   ]
  },
  {
   "cell_type": "code",
   "execution_count": 192,
   "id": "ae92270e",
   "metadata": {},
   "outputs": [
    {
     "data": {
      "text/plain": [
       "['artlarge', 'crime', 'artsmall', 'wine']"
      ]
     },
     "execution_count": 192,
     "metadata": {},
     "output_type": "execute_result"
    }
   ],
   "source": [
    "files = os.listdir('pp2data')\n",
    "datasets=[]\n",
    "for i in files:\n",
    "    datasets.append(i.split('-')[1].split('.')[0])\n",
    "unique_files = list(set(datasets))\n",
    "unique_files"
   ]
  },
  {
   "cell_type": "code",
   "execution_count": 207,
   "id": "3978f0d2",
   "metadata": {},
   "outputs": [
    {
     "name": "stdout",
     "output_type": "stream",
     "text": [
      "Enter 1 for artlarge\n",
      "Enter 2 for crime\n",
      "Enter 3 for artsmall\n",
      "Enter 4 for wine\n",
      "3\n",
      "\n",
      "*********** Processing the data file : artsmall ***********\n"
     ]
    }
   ],
   "source": [
    "for i in range(len(unique_files)):\n",
    "    print(\"Enter %d for %s\"%((i+1),unique_files[i]))\n",
    "inp = unique_files[int(input())-1]\n",
    "print(\"\\n*********** Processing the data file : %s ***********\"%inp)\n",
    "#source_data = data.get(inp)"
   ]
  },
  {
   "cell_type": "code",
   "execution_count": 208,
   "id": "73672212",
   "metadata": {},
   "outputs": [
    {
     "data": {
      "text/plain": [
       "'artsmall'"
      ]
     },
     "execution_count": 208,
     "metadata": {},
     "output_type": "execute_result"
    }
   ],
   "source": [
    "inp"
   ]
  },
  {
   "cell_type": "code",
   "execution_count": 209,
   "id": "22dea713",
   "metadata": {},
   "outputs": [
    {
     "name": "stdout",
     "output_type": "stream",
     "text": [
      "TRAINING SET :  (100, 100) (100, 1)\n",
      "TESTING SET :  (1000, 100) (1000, 1)\n"
     ]
    }
   ],
   "source": [
    "train_set = read_files('train-'+inp+'.csv')\n",
    "train_label = read_files('trainR-'+inp+'.csv')\n",
    "print(\"TRAINING SET : \",(len(train_set),len(train_set[0])),(len(train_label),len(train_label[0])))\n",
    "test_set = read_files('test-'+inp+'.csv')\n",
    "test_label = read_files('testR-'+inp+'.csv')\n",
    "print(\"TESTING SET : \",(len(test_set),len(test_set[0])),(len(test_label),len(test_label[0])))"
   ]
  },
  {
   "cell_type": "code",
   "execution_count": 210,
   "id": "f9e92282",
   "metadata": {},
   "outputs": [],
   "source": [
    "train_features = len(train_set[0])\n",
    "train_size = len(train_set)"
   ]
  },
  {
   "cell_type": "code",
   "execution_count": 211,
   "id": "e9996392",
   "metadata": {},
   "outputs": [],
   "source": [
    "def get_MeanSquareError(phi, t, w):\n",
    "\n",
    "    estimate = []\n",
    "    for i in range(len(phi)):\n",
    "        est = list(np.dot(np.transpose(w),phi[i]))\n",
    "        estimate.append(est)\n",
    "        \n",
    "    sqr_error = np.sum(np.square(t - estimate))\n",
    "    mean_sqr_error = sqr_error/len(phi)\n",
    "    \n",
    "    return mean_sqr_error"
   ]
  },
  {
   "cell_type": "code",
   "execution_count": 212,
   "id": "727afed2",
   "metadata": {},
   "outputs": [
    {
     "name": "stdout",
     "output_type": "stream",
     "text": [
      "\n",
      "***************** RESULTS Task 1 - Regularization *****************\n",
      "\n",
      "Minimum MSE of complete test data :  0.7202788056527143\n",
      "Lambdaa for Minimum MSE of complete testing data :  18\n",
      "\n",
      " Execution time for Task 1 - Regularization : 0.6047642230987549 seconds\n"
     ]
    },
    {
     "data": {
      "image/png": "[encoded data removed]",
      "text/plain": [
       "<Figure size 432x288 with 1 Axes>"
      ]
     },
     "metadata": {
      "needs_background": "light"
     },
     "output_type": "display_data"
    }
   ],
   "source": [
    "start = time.time()\n",
    "\n",
    "I = np.identity(train_features)\n",
    "phi_train = np.array(train_set,dtype=float)\n",
    "t_train = np.array(train_label,dtype=float)\n",
    "phi_test = np.array(test_set,dtype=float)\n",
    "t_test = np.array(test_label,dtype=float)\n",
    "\n",
    "MSE_test_all_lambdaa = []\n",
    "MSE_train_all_lambdaa = []\n",
    "\n",
    "w_all = []\n",
    "for lambdaa in range(150):\n",
    "    w = np.dot(np.dot(np.linalg.inv(lambdaa*I + np.dot(np.transpose(phi_train),phi_train)),np.transpose(phi_train)),t_train)\n",
    "    w_all.append(w)\n",
    "    MSE_train = get_MeanSquareError(phi_train,t_train,w)\n",
    "    MSE_train_all_lambdaa.append(MSE_train)\n",
    "    \n",
    "    MSE_test = get_MeanSquareError(phi_test,t_test,w)\n",
    "    MSE_test_all_lambdaa.append(MSE_test)\n",
    "    \n",
    "print(\"\\n***************** RESULTS Task 1 - Regularization *****************\\n\")\n",
    "print('Minimum MSE of complete test data : ',min(MSE_test_all_lambdaa))\n",
    "best_regularized_parameter = MSE_test_all_lambdaa.index(min(MSE_test_all_lambdaa))\n",
    "print('Lambdaa for Minimum MSE of complete testing data : ',best_regularized_parameter)\n",
    "end = time.time()\n",
    "print('\\n Execution time for Task 1 - Regularization : %s seconds'%(end - start))\n",
    "\n",
    "\n",
    "x=range(150)\n",
    "plt.plot(x,MSE_train_all_lambdaa,label = \"training_error\")\n",
    "plt.plot(x,MSE_test_all_lambdaa,label = \"testing_error\")\n",
    "plt.axvline(best_regularized_parameter, linewidth=1, color='b', label=\"best regularization value w.r.t. test error: {}\".format(best_regularized_parameter))\n",
    "plt.xlabel('parameter : lambdaa')\n",
    "plt.ylabel('Mean Square Error')\n",
    "plt.title('\\n************* Plot of Mean Square Errors : %s **************'%inp)\n",
    "plt.legend()\n",
    "plt.show()"
   ]
  },
  {
   "cell_type": "markdown",
   "id": "9b0158d5",
   "metadata": {},
   "source": [
    "## Task 2: Model Selection using Cross Validation"
   ]
  },
  {
   "cell_type": "code",
   "execution_count": 213,
   "id": "8533c766",
   "metadata": {},
   "outputs": [
    {
     "name": "stdout",
     "output_type": "stream",
     "text": [
      "\n",
      "***************** RESULTS Task 2 : Model Selection using Cross Validation *****************\n",
      "\n",
      "Minimum MSE of 10 fold cross validation data :  0.7051380071501041\n",
      "Lambdaa for Minimum MSE of 10 fold cross validation data :  18\n",
      "MSE of test data for best chosen lambdaa = 18 :  0.7202788056527143\n",
      "\n",
      " Execution time for Task 2 - Model Selection using Cross Validation : 0.899479866027832 seconds\n"
     ]
    },
    {
     "data": {
      "image/png": "[encoded data removed]",
      "text/plain": [
       "<Figure size 432x288 with 1 Axes>"
      ]
     },
     "metadata": {
      "needs_background": "light"
     },
     "output_type": "display_data"
    },
    {
     "name": "stdout",
     "output_type": "stream",
     "text": [
      "\n",
      "***************** Comparison Plot of Training/Testing/Cross Validation testing Errors *****************\n",
      "\n"
     ]
    },
    {
     "data": {
      "image/png": "[encoded data removed]",
      "text/plain": [
       "<Figure size 432x288 with 1 Axes>"
      ]
     },
     "metadata": {
      "needs_background": "light"
     },
     "output_type": "display_data"
    }
   ],
   "source": [
    "start = time.time()\n",
    "\n",
    "train_dict={}\n",
    "for i in range(len(phi_train)):\n",
    "    train_dict[i] = phi_train[i]\n",
    "\n",
    "t_train_dict={}\n",
    "for i in range(len(t_train)):\n",
    "    t_train_dict[i] = t_train[i]\n",
    "    \n",
    "    \n",
    "MSE_test_all_lambdaa_cv = []\n",
    "cv_folds = 10\n",
    "\n",
    "for lambdaa in range(150):\n",
    "    MSE_for_each_cv = []\n",
    "    \n",
    "    for  j in range(cv_folds):\n",
    "        \n",
    "        test_cv = dict(list(train_dict.items())[j*int(len(train_dict)/cv_folds):(j*int(len(train_dict)/cv_folds))+int(len(train_dict)/cv_folds)])\n",
    "        t_test_cv = dict(list(t_train_dict.items())[j*int(len(t_train_dict)/cv_folds):(j*int(len(t_train_dict)/cv_folds))+int(len(t_train_dict)/cv_folds)])\n",
    "        #creating train data set from entire vocabulary\n",
    "        train_cv = {}\n",
    "        for i in set(train_dict.keys()) - set(test_cv.keys()):\n",
    "            train_cv[i] = train_dict[i]\n",
    "        t_train_cv = {}\n",
    "        for i in set(t_train_dict.keys()) - set(t_test_cv.keys()):\n",
    "            t_train_cv[i] = t_train_dict[i]\n",
    "        \n",
    "    \n",
    "        phi_train_cv = np.array(list(train_cv.values()),dtype=float)\n",
    "        t_train_cv_np = np.array(list(t_train_cv.values()),dtype=float)\n",
    "       \n",
    "        phi_test_cv = np.array(list(test_cv.values()),dtype=float)\n",
    "        t_test_cv_np = np.array(list(t_test_cv.values()),dtype=float)\n",
    "        \n",
    "        train_cv_features = len(phi_train_cv[0])\n",
    "        train_cv_size = len(phi_train_cv)\n",
    "    \n",
    "        I_cv = np.identity(train_cv_features)\n",
    "        \n",
    "        w_cv = np.dot(np.dot(np.linalg.inv(lambdaa*I_cv + np.dot(np.transpose(phi_train_cv),phi_train_cv)),np.transpose(phi_train_cv)),t_train_cv_np)\n",
    "\n",
    "        MSE_test_cv = get_MeanSquareError(phi_test_cv, t_test_cv_np, w_cv )\n",
    "        MSE_for_each_cv.append(MSE_test_cv)\n",
    "        \n",
    "    MSE_test_all_lambdaa_cv.append(np.mean(MSE_for_each_cv))\n",
    "    \n",
    "print(\"\\n***************** RESULTS Task 2 : Model Selection using Cross Validation *****************\\n\")\n",
    "print('Minimum MSE of %s fold cross validation data : '%cv_folds,min(MSE_test_all_lambdaa_cv))\n",
    "lambdaa_best_from_cv = MSE_test_all_lambdaa_cv.index(min(MSE_test_all_lambdaa_cv))\n",
    "print('Lambdaa for Minimum MSE of %s fold cross validation data : '%cv_folds,lambdaa_best_from_cv)\n",
    "\n",
    "\n",
    "MSE_test_best_lambdaa = MSE_test_all_lambdaa[lambdaa_best_from_cv]\n",
    "\n",
    "print(\"MSE of test data for best chosen lambdaa = %s : \"%lambdaa_best_from_cv, MSE_test_best_lambdaa)\n",
    "\n",
    "end = time.time()\n",
    "print('\\n Execution time for Task 2 - Model Selection using Cross Validation : %s seconds'%(end - start))\n",
    "\n",
    "x=range(150)\n",
    "plt.plot(x,MSE_test_all_lambdaa_cv,label = \"10-fold cross validation testing error\")\n",
    "plt.axvline(lambdaa_best_from_cv, linewidth=1, color='b', label=\"best lambdaa from cv w.r.t. test error: {}\".format(lambdaa_best_from_cv))\n",
    "plt.xlabel('parameter : lambdaa')\n",
    "plt.ylabel('Mean Square Error')\n",
    "plt.title('\\n************* Plot of Cross Validation Mean Square Errors : %s **************'%inp)\n",
    "plt.legend()\n",
    "plt.show()\n",
    "\n",
    "print(\"\\n***************** Comparison Plot of Training/Testing/Cross Validation testing Errors *****************\\n\")\n",
    "x=range(150)\n",
    "plt.plot(x,MSE_test_all_lambdaa_cv,label = \"10-fold cross validation testing error\")\n",
    "plt.plot(x,MSE_train_all_lambdaa,label = \"training_error\")\n",
    "plt.plot(x,MSE_test_all_lambdaa,label = \"testing_error\")\n",
    "plt.axvline(lambdaa_best_from_cv, linewidth=1, color='r', label=\"best lambdaa from cv w.r.t. test error: {}\".format(lambdaa_best_from_cv))\n",
    "plt.axvline(best_regularized_parameter, linewidth=1, color='b', label=\"best regularization value w.r.t. test error: {}\".format(best_regularized_parameter))\n",
    "plt.xlabel('parameter : lambdaa')\n",
    "plt.ylabel('Mean Square Error')\n",
    "plt.title('\\n************* Plot of all Mean Square Errors : %s **************'%inp)\n",
    "plt.legend()\n",
    "plt.show()"
   ]
  },
  {
   "cell_type": "markdown",
   "id": "5936e8ea",
   "metadata": {},
   "source": [
    "## Task 3: Bayesian Model Selection"
   ]
  },
  {
   "cell_type": "code",
   "execution_count": 215,
   "id": "1c5d35be",
   "metadata": {},
   "outputs": [],
   "source": [
    "def BayesianModel(phi_train, t_train, alpha, beta):   \n",
    "    \n",
    "    N = len(phi_train)\n",
    "    sn_inverse = alpha*I + beta* np.dot(np.transpose(phi_train),phi_train)\n",
    "    mn = beta*np.dot(np.dot(np.linalg.inv(sn_inverse),np.transpose(phi_train)),t_train)\n",
    "\n",
    "    eigenvalues, eigenvectors = np.linalg.eig(beta* np.dot(np.transpose(phi_train),phi_train))\n",
    "\n",
    "    gamma = np.sum(eigenvalues/(alpha+eigenvalues))\n",
    "\n",
    "    alpha_new = gamma/float(np.dot(np.transpose(mn),mn))\n",
    "\n",
    "    sum_squared_error = 0\n",
    "    for i in range(len(t_train)):\n",
    "        sum_squared_error += float(np.square(t_train[i] - np.dot(np.transpose(mn),phi_train[i])))\n",
    "\n",
    "    beta_new = np.reciprocal(sum_squared_error/(N-gamma))\n",
    "\n",
    "    return alpha_new,beta_new"
   ]
  }
 ],
 "metadata": {
  "kernelspec": {
   "display_name": "Python 3",
   "language": "python",
   "name": "python3"
  },
  "language_info": {
   "codemirror_mode": {
    "name": "ipython",
    "version": 3
   },
   "file_extension": ".py",
   "mimetype": "text/x-python",
   "name": "python",
   "nbconvert_exporter": "python",
   "pygments_lexer": "ipython3",
   "version": "3.8.8"
  }
 },
 "nbformat": 4,
 "nbformat_minor": 5
}
